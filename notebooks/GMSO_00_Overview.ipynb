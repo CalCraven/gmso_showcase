{
 "cells": [
  {
   "cell_type": "markdown",
   "id": "11e75303",
   "metadata": {},
   "source": [
    "# GMSO Tutorial 00: Overview\n",
    "\n",
    "`GMSO` stands for the General Molecule Simulation Object and is an integral part of the MoSDeF project. The library includes data structures that can be used to store details of chemical structures initialized by mBuild and typed with Foyer. The package is designed to cover short-comings observed in other similar chemical structure data objects, and include functionalities to support [TRUE](https://www.tandfonline.com/doi/full/10.1080/00268976.2020.1742938) (Transparent, Reproducible, Usable-by-others, and Extensible) simulations research. This set of notebooks will provide a brief introduction about different modules and features within the GMSO library, which will be necessary for better manipulation of initialized chemical systems.\n",
    "\n",
    "\n",
    "<p align=\"center\">\n",
    "    <img src=\"figs/mosdef_graphic_gmso.png?raw=true\", alt=\"GMSO within the MoSDeF Ecosystem\" width=\"500\" height=\"500\"/>\n",
    "</p>\n",
    "\n"
   ]
  },
  {
   "cell_type": "markdown",
   "id": "fb5704bb",
   "metadata": {},
   "source": [
    "At the moment, GMSO is still under development/experiment, but we have defined a set of goal and some target features that should be available when the package get mature.\n",
    "\n",
    "Goals and Features\n",
    "------------------\n",
    "\n",
    "`GMSO`'s goal is to provide a flexible backend framework to store topological information of a chemical system in a reproducible fashion.\n",
    "**Topology** in this case is defined as the information needed to initialize a molecular simulation.\n",
    "Depending on the type of simulation performed, this ranges from:\n",
    "* particle positions\n",
    "* particle connectivity\n",
    "* box information\n",
    "* forcefield data\n",
    "    - functional forms defined as [`sympy` expressions](https://www.sympy.org)\n",
    "    - parameters with defined units\n",
    "    - partial charges\n",
    "    - tabulated data\n",
    "    - etc.\n",
    "* Other optional data\n",
    "    - particle mass\n",
    "    - elemental data\n",
    "    - etc.\n",
    "\n",
    "With these driving goals for `GMSO`, the following features are enabled:\n",
    "1. __Supporting a variety of models__ in the molecular simulation/computational\n",
    "  chemistry community_:\n",
    "  No assumptions are made about an interaction site\n",
    "  representing an atom or bead, instead these can be atomistic,\n",
    "  united-atom/coarse-grained, polarizable, and other models!\n",
    "\n",
    "1. __Greater flexibility for exotic potentials__: The [`AtomType`](./gmso/core/atom_type.py) (and [analogue\n",
    "  classes for intramolecular interactions](./gmso/core)) uses [`sympy`](https://www.sympy.org) to store any\n",
    "  potential that can be represented by a mathematical expression.\n",
    "\n",
    "1. __Adaptable for new engines__: by not being designed for\n",
    "  compatibility with any particular molecular simulation engine or ecosystem,\n",
    "  it becomes more tractable for developers in the community to add glue for\n",
    "  engines that are not currently supported.\n",
    "\n",
    "1. __Compatibility with existing community tools__: No single molecular simulation\n",
    "  tool will ever be a silver bullet, so ``GMSO`` includes functions to convert\n",
    "  between various file formats and libraries. These can be used in their own right to convert between objects in-memory\n",
    "  and also to support conversion to file formats not natively supported at\n",
    "  any given time. Currently supported conversions include:\n",
    "    * [`ParmEd`](./gmso/external/convert_parmed.py)\n",
    "    * [`OpenMM`](./gmso/external/convert_openmm.py)\n",
    "    * [`mBuild`](./gmso/external/convert_mbuild.py)\n",
    "    * more in the future!\n",
    "\n",
    "1. __Native support for reading and writing many common file formats__: We natively have support for:\n",
    "    * [`XYZ`](./gmso/formats/xyz.py)\n",
    "    * [`GRO`](./gmso/formats/gro.py)\n",
    "    * [`TOP`](gmso/formats/top.py)\n",
    "    * [`LAMMPSDATA`](gmso/formats/lammpsdata.py)\n",
    "    * indirect support, through other libraries, for many more!\n"
   ]
  },
  {
   "cell_type": "code",
   "execution_count": null,
   "id": "3bd344d0",
   "metadata": {},
   "outputs": [],
   "source": []
  }
 ],
 "metadata": {
  "kernelspec": {
   "display_name": "Python 3 (ipykernel)",
   "language": "python",
   "name": "python3"
  },
  "language_info": {
   "codemirror_mode": {
    "name": "ipython",
    "version": 3
   },
   "file_extension": ".py",
   "mimetype": "text/x-python",
   "name": "python",
   "nbconvert_exporter": "python",
   "pygments_lexer": "ipython3",
   "version": "3.9.7"
  }
 },
 "nbformat": 4,
 "nbformat_minor": 5
}
