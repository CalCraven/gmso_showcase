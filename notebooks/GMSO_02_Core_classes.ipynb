{
 "cells": [
  {
   "cell_type": "markdown",
   "id": "d85db667",
   "metadata": {},
   "source": [
    "# Core Classes\n",
    "In `gmso` we define the following core classes. All of our core classes make use of `gmso.abc` to define a particular site, connection or potential. The module `gmso.core`'s structure is as follows:\n",
    "\n",
    "```\n",
    "gmso/core/\n",
    "├── angle.py\n",
    "├── angle_type.py\n",
    "├── atom.py\n",
    "├── atom_type.py\n",
    "├── bond.py\n",
    "├── bond_type.py\n",
    "├── box.py\n",
    "├── dihedral.py\n",
    "├── dihedral_type.py\n",
    "├── element.py\n",
    "├── forcefield.py\n",
    "├── improper.py\n",
    "├── improper_type.py\n",
    "├── parametric_potential.py\n",
    "└── topology.py\n",
    "```\n",
    "\n"
   ]
  },
  {
   "cell_type": "markdown",
   "id": "0886edc4",
   "metadata": {},
   "source": [
    "### Sites\n",
    "1. [`atom.py`](https://github.com/mosdef-hub/gmso/blob/3ff3829cb4bc492b41e5e520d26d35c09c5338a4/gmso/core/atom.py): Defines the class `gmso.core.atom.Atom` which inherits from `gmso.abc.abstract_site.Site` to define an `Atom`."
   ]
  },
  {
   "cell_type": "code",
   "execution_count": null,
   "id": "41e9d79d",
   "metadata": {},
   "outputs": [],
   "source": [
    "import json\n",
    "import unyt as u\n",
    "class UnytJsonEncoder(json.JSONEncoder):\n",
    "    def default(self, obj):\n",
    "        if isinstance(obj, u.unyt_array):\n",
    "            return {\n",
    "                    'array': obj.ravel().tolist(),\n",
    "                    'unit': str(obj.units)    \n",
    "            }\n",
    "        \n",
    "        return json.JSONEncoder.default(self, obj)\n",
    "    "
   ]
  },
  {
   "cell_type": "code",
   "execution_count": null,
   "id": "ff35178c",
   "metadata": {},
   "outputs": [],
   "source": [
    "from gmso.core.atom import Atom\n",
    "from pprint import pprint\n",
    "atom1 = Atom(name='atom1', charge=2.0*u.elementary_charge)\n",
    "atom2 = Atom(name='atom2', charge=1.0*u.elementary_charge)\n",
    "\n",
    "# Dumping the model as json is easy\n",
    "pprint(json.dumps(atom1.dict(by_alias=True, exclude_unset=True), cls=UnytJsonEncoder, indent=2))"
   ]
  },
  {
   "cell_type": "markdown",
   "id": "00a40411",
   "metadata": {},
   "source": [
    "\n",
    "### Connections\n",
    "1. [`bond.py`](https://github.com/mosdef-hub/gmso/blob/3ff3829cb4bc492b41e5e520d26d35c09c5338a4/gmso/core/bond.py): Defines the class `gmso.core.bond.Bond` which inherits from `gmso.abc.abstract_connection.Connection` to define a 2-partner connection between `Atoms`.\n",
    "---\n",
    "2. [`angle.py`](https://github.com/mosdef-hub/gmso/blob/3ff3829cb4bc492b41e5e520d26d35c09c5338a4/gmso/core/angle.py): Defines the class `gmso.core.angle.Angle` which inherits from `gmso.abc.abstract_connection.Connection` to define a 3-partner connection between `Atoms`.\n",
    "---\n",
    "3. [`dihedral.py`](https://github.com/mosdef-hub/gmso/blob/3ff3829cb4bc492b41e5e520d26d35c09c5338a4/gmso/core/dihedral.py): Defines the class `gmso.core.dihedral.Dihedral` which inherits from `gmso.abc.abstract_connection.Connection` to define a 4-partner connection(dihedral) between `Atoms`.\n",
    "---\n",
    "4. [`improper.py`](https://github.com/mosdef-hub/gmso/blob/3ff3829cb4bc492b41e5e520d26d35c09c5338a4/gmso/core/improper.py): Defines the class `gmso.core.improper.Improper` which inherits from `gmso.abc.abstract_connection.Connection` to define a 4-partner connection(improper) between `Atoms`."
   ]
  },
  {
   "cell_type": "code",
   "execution_count": null,
   "id": "a46e7b33",
   "metadata": {},
   "outputs": [],
   "source": [
    "from gmso import Bond\n",
    "bond = Bond(connection_members=[atom1, atom2])\n",
    "bond.connection_members"
   ]
  },
  {
   "cell_type": "markdown",
   "id": "cf486881",
   "metadata": {},
   "source": [
    "\n",
    "### Potentials\n",
    "1. [`parametric_potential.py`](https://github.com/mosdef-hub/gmso/blob/3ff3829cb4bc492b41e5e520d26d35c09c5338a4/gmso/core/parametric_potential.py): Defines the class `gmso.core.parametric_potential.ParametricPotential` which inherits from `gmso.abc.abstract_potential.Potential` to define a `ParametricPotential` class which stores the functional form of a Potential as a `sympy` expression and parameters of the potential expression as `unyt_quantities`.\n",
    "---\n",
    "2. [`atom_type.py`](https://github.com/mosdef-hub/gmso/blob/3ff3829cb4bc492b41e5e520d26d35c09c5338a4/gmso/core/atom_type.py): Defines the class `gmso.core.atom_type.AtomType` which inherits from `gmso.core.parametric_potential.ParametricPotential` to describe properties for an `AtomType`.   \n",
    "---\n",
    "3. [`bond_type.py`](https://github.com/mosdef-hub/gmso/blob/3ff3829cb4bc492b41e5e520d26d35c09c5338a4/gmso/core/bond_type.py): Defines the class `gmso.core.bond_type.BondType` which inherits from `gmso.core.parametric_potential.ParametricPotential` to describe properties for a `BondType`.\n",
    "---\n",
    "4. [`angle_type.py`](https://github.com/mosdef-hub/gmso/blob/3ff3829cb4bc492b41e5e520d26d35c09c5338a4/gmso/core/angle_type.py): Defines the class `gmso.core.angle_type.AngleType` which inherits from `gmso.core.parametric_potential.ParametricPotential` to describe properties for an `AngleType`.\n",
    "---\n",
    "5. [`dihedral_type.py`](https://github.com/mosdef-hub/gmso/blob/3ff3829cb4bc492b41e5e520d26d35c09c5338a4/gmso/core/dihedral_type.py) and [`improper_type.py`](https://github.com/mosdef-hub/gmso/blob/3ff3829cb4bc492b41e5e520d26d35c09c5338a4/gmso/core/atom_type.py): Defines the classes `gmso.core.atom_type.DihedralType` and `gmso.core.improper_type.ImproperType` which inherit from `gmso.core.parametric_potential.ParametricPotential` which describe properties for a `DihedralType` and `ImproperType` respectively."
   ]
  },
  {
   "cell_type": "code",
   "execution_count": null,
   "id": "2f37c741",
   "metadata": {},
   "outputs": [],
   "source": [
    "from gmso.core.parametric_potential import ParametricPotential\n",
    "\n",
    "# Handle potential expression using separate Expression class\n",
    "new_potential = ParametricPotential(\n",
    "            name='mypotential',\n",
    "            expression='a*x+b',\n",
    "            parameters={\n",
    "                'a': 1.0*u.g,\n",
    "                'b': 1.0*u.m\n",
    "            },\n",
    "            independent_variables={'x'}\n",
    ")\n",
    "\n",
    "try:\n",
    "    new_potential.independent_variables = 'y'\n",
    "except ValueError as e:\n",
    "    print(e)"
   ]
  },
  {
   "cell_type": "code",
   "execution_count": null,
   "id": "53867a21",
   "metadata": {},
   "outputs": [],
   "source": [
    "from gmso import Topology, Atom, Bond\n",
    "methane_top = Topology()\n",
    "c = Atom(name='c')\n",
    "h1 = Atom(name='h1')\n",
    "h2 = Atom(name='h2')\n",
    "h3 = Atom(name='h3')\n",
    "h4 = Atom(name='h4')\n",
    "ch1 = Bond(connection_members=[c,h1])\n",
    "ch2 = Bond(connection_members=[c,h2])\n",
    "ch3 = Bond(connection_members=[c,h3])\n",
    "ch4 = Bond(connection_members=[c,h4])\n",
    "methane_top.add_site(c, update_types=False)\n",
    "methane_top.add_site(h1, update_types=False)\n",
    "methane_top.add_site(h2, update_types=False)\n",
    "methane_top.add_site(h3, update_types=False)\n",
    "methane_top.add_site(h4, update_types=False)\n",
    "methane_top.add_connection(ch1, update_types=False)\n",
    "methane_top.add_connection(ch2, update_types=False)\n",
    "methane_top.add_connection(ch3, update_types=False)\n",
    "methane_top.add_connection(ch4, update_types=False)\n",
    "\n",
    "# You can now infer angles, dihedrals and impropers from bonds\n",
    "methane_top.update_topology()\n",
    "print(methane_top.n_angles)  # No angles now\n",
    "methane_top.identify_connections() # Uses networkx to identify connections using subgraph isomorphism\n",
    "print(methane_top.n_angles) "
   ]
  },
  {
   "cell_type": "markdown",
   "id": "c55e7706",
   "metadata": {},
   "source": [
    "### Forcefield\n",
    "1. [`forcefield.py`](https://github.com/mosdef-hub/gmso/blob/3ff3829cb4bc492b41e5e520d26d35c09c5338a4/gmso/core/forcefield.py): Defines the class `gmso.core.forcefield.ForceField` which defines the in memory representation of the gmso forcefield schema. An example forcefield XML (`tip3p.xml`) is shown below:"
   ]
  },
  {
   "cell_type": "markdown",
   "id": "5691875d",
   "metadata": {},
   "source": [
    "```xml\n",
    "<?xml version='1.0' encoding='UTF-8'?>\n",
    "<ForceField name=\"TIP3P\" version=\"0.0.1\"> \n",
    "  <!-- Defines units as metadata-->\n",
    "  <FFMetaData>\n",
    "    <Units energy=\"kJ/mol\" mass=\"amu\" charge=\"elementary_charge\" distance=\"nm\"/>\n",
    "  </FFMetaData>\n",
    "  <!-- Potentials can be grouped together by expression and can have optional names -->\n",
    "  <AtomTypes expression=\"4*epsilon * ((sigma/r)**12 - (sigma/r)**6)\">\n",
    "     <!--   Units for parameters are defined in this tag    -->\n",
    "    <ParametersUnitDef parameter=\"epsilon\" unit=\"kJ/mol\"/>\n",
    "    <ParametersUnitDef parameter=\"sigma\" unit=\"nm\"/>\n",
    "    <AtomType name=\"opls_111\" element=\"O\" charge=\"-0.834\" mass=\"16\" definition=\"O\" description=\"water O\">\n",
    "      <Parameters>\n",
    "        <Parameter name=\"epsilon\" value=\"0.636386\"/>\n",
    "        <Parameter name=\"sigma\" value=\"0.315061\"/>\n",
    "      </Parameters>\n",
    "    </AtomType>\n",
    "    <AtomType name=\"opls_112\" element=\"H\" charge=\"0.417\" mass=\"1.011\" definition=\"H\">\n",
    "      <Parameters>\n",
    "        <Parameter name=\"epsilon\" value=\"0.0\"/>\n",
    "        <Parameter name=\"sigma\" value=\"1.0\"/>\n",
    "      </Parameters>\n",
    "    </AtomType>\n",
    "  </AtomTypes>\n",
    "  <BondTypes expression=\"0.5 * k * (r-r_eq)**2\">\n",
    "    <ParametersUnitDef parameter=\"k\" unit=\"kJ/mol/nm**2\"/>\n",
    "    <ParametersUnitDef parameter=\"r_eq\" unit=\"nm\"/>\n",
    "    <BondType name=\"BondType-Harmonic-1\" type1=\"opls_111\" type2=\"opls_112\">\n",
    "      <Parameters>\n",
    "        <Parameter name=\"k\" value=\"502416.0\"/>\n",
    "        <Parameter name=\"r_eq\" value=\"0.09572\"/>\n",
    "      </Parameters>\n",
    "    </BondType>\n",
    "  </BondTypes>\n",
    "  <AngleTypes expression=\"0.5 * k * (theta - theta_eq)**2\">\n",
    "    <ParametersUnitDef parameter=\"k\" unit=\"kJ/(mol*radian**2)\"/>\n",
    "    <ParametersUnitDef parameter=\"theta_eq\" unit=\"radian\"/>\n",
    "    <AngleType name=\"AngleType-Harmonic-1\" type1=\"opls_112\" type2=\"opls_111\" type3=\"opls_112\">\n",
    "      <Parameters>\n",
    "        <Parameter name=\"k\" value=\"682.02\"/>\n",
    "        <Parameter name=\"theta_eq\" value=\"1.824218134\"/>\n",
    "      </Parameters>\n",
    "    </AngleType>\n",
    "  </AngleTypes>\n",
    "</ForceField>\n",
    "```"
   ]
  },
  {
   "cell_type": "code",
   "execution_count": null,
   "id": "8acfe5db",
   "metadata": {},
   "outputs": [],
   "source": [
    "from gmso import ForceField \n",
    "from gmso.tests.utils import get_path\n",
    "tip3p_ff = ForceField(get_path('tip3p.xml'))\n",
    "tip3p_ff.bond_types"
   ]
  },
  {
   "cell_type": "code",
   "execution_count": null,
   "id": "11bddbe4",
   "metadata": {},
   "outputs": [],
   "source": []
  }
 ],
 "metadata": {
  "kernelspec": {
   "display_name": "Python 3",
   "language": "python",
   "name": "python3"
  },
  "language_info": {
   "codemirror_mode": {
    "name": "ipython",
    "version": 3
   },
   "file_extension": ".py",
   "mimetype": "text/x-python",
   "name": "python",
   "nbconvert_exporter": "python",
   "pygments_lexer": "ipython3",
   "version": "3.8.0"
  }
 },
 "nbformat": 4,
 "nbformat_minor": 5
}
