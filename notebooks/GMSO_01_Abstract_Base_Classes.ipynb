{
 "cells": [
  {
   "cell_type": "markdown",
   "id": "79d5ddb0",
   "metadata": {},
   "source": [
    "# Module gmso.abc\n",
    "This module provides the abstract base classes for all other core data structures used in gmso. Our abstract base classes inherit from [pydantic](https://pydantic-docs.helpmanual.io/)'s `BaseModel` class which provides type hints as well as runtime data validation together with out-of-the-box serialization. The module structure is as follows:\n",
    "```\n",
    "gmso/abc \n",
    "├── abstract_connection.py \n",
    "├── abstract_potential.py \n",
    "├── abstract_site.py \n",
    "├── gmso_base.py \n",
    "```\n",
    "\n",
    "\n",
    "1. [`gmso_base.py`](https://github.com/mosdef-hub/gmso/blob/3ff3829cb4bc492b41e5e520d26d35c09c5338a4/gmso/abc/gmso_base.py): Defines the class `GMSOBase` i.e. The base class for all our other classes that tweaks pydantic's `BaseModel` class to provide an `id`-based hasing as well as injects numpydoc style docstrings from the fields of the class.\n",
    "---\n",
    "2. [`abstract_site.py`](https://github.com/mosdef-hub/gmso/blob/3ff3829cb4bc492b41e5e520d26d35c09c5338a4/gmso/abc/abstract_site.py): Defines the `Site` class which provides a basic topology site with following attributes: (a.) name (b.) position (c.) label\n",
    "---\n",
    "3. [`abstract_potential.py`](https://github.com/mosdef-hub/gmso/blob/3ff3829cb4bc492b41e5e520d26d35c09c5338a4/gmso/abc/abstract_potential.py): Defines the abstract `Potential` class which is the base class for our `ParametricPotentials` as well as `PotentialTemplates`.\n",
    "---\n",
    "4. [`abstract_connection.py`](https://github.com/mosdef-hub/gmso/blob/3ff3829cb4bc492b41e5e520d26d35c09c5338a4/gmso/abc/abstract_site.py): Defines the abstract `Connection` class which is the base class for our `Bond`, `Angle`, `Dihedral` and `Improper` classes.\n"
   ]
  },
  {
   "cell_type": "markdown",
   "id": "03853af4",
   "metadata": {},
   "source": [
    "## Extensibility \n",
    "The implementation of abstract base classes allows for a consistent and systematic expansion of the library. The `gmso.abc` would allow new data classes to be implemented as needs arise with built-in common attributes/methods and type-check. \n",
    "\n",
    "## Example: Implementing a Bead\n",
    "\n",
    "The `Bead` class can now be implemented as a subclass of the abstract `Site` class. We can use the existing attributes from the super class like `name`, `position` etc... and define new attributes and methods for `Bead`. The goal is the consolidation of as many universal characteristics of a generic topology site into a base class (`Site`) and tweak its down-stream usage according to the needs of a particular site (like an `Atom` or a `Bead`). Usage of `Site` to create a `Bead` class is shown below:"
   ]
  },
  {
   "cell_type": "code",
   "execution_count": null,
   "id": "76719175",
   "metadata": {},
   "outputs": [],
   "source": [
    "import warnings\n",
    "warnings.simplefilter('ignore')\n",
    "import unyt as u\n",
    "from pydantic import Field, ValidationError\n",
    "\n",
    "from gmso.abc.abstract_site import Site\n",
    "\n",
    "\n",
    "class Bead(Site):\n",
    "    __base_doc__ = \"Basic Bead class inheriting from the Site Class\"\n",
    "    mass_: u.unyt_quantity = Field(\n",
    "        default=1.0*u.amu,\n",
    "        description='Mass of the bead'\n",
    "    )\n",
    "        \n",
    "    charge_: u.unyt_quantity = Field(\n",
    "        default=0.0*u.elementary_charge,\n",
    "        description='Charge of the bead'\n",
    "    )\n",
    "    \n",
    "    class Config:\n",
    "        fields = {\n",
    "            'mass_': 'mass',\n",
    "            'charge_': 'charge'\n",
    "        }\n",
    "        alias_to_fields = {\n",
    "            'mass': 'mass_',\n",
    "            'charge': 'charge_'\n",
    "        }\n",
    "    \n",
    "my_bead = Bead()\n",
    "my_bead.name  # When you inherit, the attribute(field) `name` is injected as the class name(Bead in this case)\n",
    "\n",
    "# We use pydantic for validation as well, for example if you assign a string to charge by accident :)\n",
    "try:\n",
    "    my_bead.charge = 'Some weird charge string'\n",
    "except ValidationError as e:\n",
    "    print(e)"
   ]
  },
  {
   "cell_type": "code",
   "execution_count": null,
   "id": "cba665b2",
   "metadata": {},
   "outputs": [],
   "source": [
    "# Documentation is injected automatically as well\n",
    "%pdoc Bead"
   ]
  },
  {
   "cell_type": "code",
   "execution_count": null,
   "id": "61300fe9",
   "metadata": {},
   "outputs": [],
   "source": []
  }
 ],
 "metadata": {
  "kernelspec": {
   "display_name": "Python 3 (ipykernel)",
   "language": "python",
   "name": "python3"
  },
  "language_info": {
   "codemirror_mode": {
    "name": "ipython",
    "version": 3
   },
   "file_extension": ".py",
   "mimetype": "text/x-python",
   "name": "python",
   "nbconvert_exporter": "python",
   "pygments_lexer": "ipython3",
   "version": "3.9.7"
  }
 },
 "nbformat": 4,
 "nbformat_minor": 5
}
