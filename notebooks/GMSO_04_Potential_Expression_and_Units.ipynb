{
 "cells": [
  {
   "cell_type": "markdown",
   "id": "bc695e23",
   "metadata": {},
   "source": [
    "# Handling Potential Parameters and Units in GMSO\n",
    "\n",
    "Potential expression and parameters represent the functional form of any bonded or non bonded potential in GMSO. At its core, any Potential class (inheriting from `gmso.abstract_potential.AbstractPotential`) is a container for two entities:\n",
    "\n",
    "1. The expression for the Potential\n",
    "2. The parameters (i.e. non-free variables) in the Potential expression and their values\n",
    "\n",
    "We delegate the handling of potential expression, the variables and their values in GMSO to a utility class called `PotentialExpression`, which keeps track of the changes to the independent variables and expression of a potential expression."
   ]
  },
  {
   "cell_type": "code",
   "execution_count": null,
   "id": "5c156e05",
   "metadata": {},
   "outputs": [],
   "source": [
    "from gmso.utils.expression import PotentialExpression\n",
    "\n",
    "expression = PotentialExpression(\n",
    "    expression='x*b+c',\n",
    "    independent_variables={'c'}\n",
    ")\n",
    "\n",
    "print(expression.is_parametric)\n",
    "try:\n",
    "    expression.independent_variables = 'd' # Will throw an error\n",
    "except ValueError as e:\n",
    "    print(e)"
   ]
  },
  {
   "cell_type": "markdown",
   "id": "d39b09c9",
   "metadata": {},
   "source": [
    "As shown above, we can use the `PotentialTemplateLibrary` to parametrize any potential we want. All the parameters are maintained as `unyt_arrays` which makes them easier to work with in any unit system. An example of creating a Potential from `LennardJonesPotential` template is shown below:"
   ]
  },
  {
   "cell_type": "code",
   "execution_count": null,
   "id": "be641400",
   "metadata": {},
   "outputs": [],
   "source": [
    "import unyt as u\n",
    "from gmso.core.parametric_potential import ParametricPotential\n",
    "from gmso.lib.potential_templates import PotentialTemplateLibrary\n",
    "pt_lib = PotentialTemplateLibrary()\n",
    "pt_lib.get_available_template_names()"
   ]
  },
  {
   "cell_type": "code",
   "execution_count": null,
   "id": "b683db49",
   "metadata": {},
   "outputs": [],
   "source": [
    "display(pt_lib['LennardJonesPotential'].expression, pt_lib['LennardJonesPotential'].independent_variables)"
   ]
  },
  {
   "cell_type": "code",
   "execution_count": null,
   "id": "951d92a7",
   "metadata": {},
   "outputs": [],
   "source": [
    "lj_parametrized = ParametricPotential.from_template(\n",
    "    potential_template=pt_lib['LennardJonesPotential'],\n",
    "    parameters={\n",
    "        'sigma' : 1.0 * u.nm,\n",
    "        'epsilon': 1.0 * u.kJ / u.mol\n",
    "    }\n",
    ")\n",
    "\n",
    "display(lj_parametrized.expression, pt_lib['LennardJonesPotential'].independent_variables, lj_parametrized.parameters)"
   ]
  }
 ],
 "metadata": {
  "kernelspec": {
   "display_name": "Python 3 (ipykernel)",
   "language": "python",
   "name": "python3"
  },
  "language_info": {
   "codemirror_mode": {
    "name": "ipython",
    "version": 3
   },
   "file_extension": ".py",
   "mimetype": "text/x-python",
   "name": "python",
   "nbconvert_exporter": "python",
   "pygments_lexer": "ipython3",
   "version": "3.9.7"
  }
 },
 "nbformat": 4,
 "nbformat_minor": 5
}
